{
 "cells": [
  {
   "cell_type": "code",
   "execution_count": 2,
   "metadata": {},
   "outputs": [],
   "source": [
    "from datetime import datetime\n",
    "import os\n",
    "import pyopenstates\n",
    "import sys\n",
    "\n",
    "def get_state_abbr(state):\n",
    "    return state.get('abbreviation')\n",
    "\n",
    "\n",
    "def get_state_name(state):\n",
    "    return state.get('name')\n",
    "\n",
    "\n",
    "def query_state(state, search_terms):\n",
    "    \"\"\"\n",
    "    https://openstates.github.io/pyopenstates/pyopenstates%20module.html#pyopenstates.search_bills\n",
    "    uses keyworded argument in function\n",
    "    \"\"\"\n",
    "    print('Query for ' + state + ' bills')\n",
    "\n",
    "    bills = pyopenstates.search_bills(state=state, q=search_terms)\n",
    "\n",
    "    return bills"
   ]
  },
  {
   "cell_type": "code",
   "execution_count": 3,
   "metadata": {},
   "outputs": [],
   "source": [
    "pyopenstates.set_api_key(KEY HERE)\n",
    "\n",
    "metadata = pyopenstates.get_metadata()\n",
    "states = list(map(get_state_abbr, metadata))"
   ]
  },
  {
   "cell_type": "code",
   "execution_count": 4,
   "metadata": {},
   "outputs": [
    {
     "name": "stdout",
     "output_type": "stream",
     "text": [
      "Query for al bills\n",
      "Query for ak bills\n",
      "Query for az bills\n",
      "Query for ar bills\n",
      "Query for ca bills\n",
      "Query for co bills\n",
      "Query for ct bills\n",
      "Query for de bills\n",
      "Query for dc bills\n",
      "Query for fl bills\n",
      "Query for ga bills\n",
      "Query for hi bills\n",
      "Query for id bills\n",
      "Query for il bills\n",
      "Query for in bills\n",
      "Query for ia bills\n",
      "Query for ks bills\n",
      "Query for ky bills\n",
      "Query for la bills\n",
      "Query for me bills\n",
      "Query for md bills\n",
      "Query for ma bills\n",
      "Query for mi bills\n",
      "Query for mn bills\n",
      "Query for ms bills\n",
      "Query for mo bills\n",
      "Query for mt bills\n",
      "Query for ne bills\n",
      "Query for nv bills\n",
      "Query for nh bills\n",
      "Query for nj bills\n",
      "Query for nm bills\n",
      "Query for ny bills\n",
      "Query for nc bills\n",
      "Query for nd bills\n",
      "Query for oh bills\n",
      "Query for ok bills\n",
      "Query for or bills\n",
      "Query for pa bills\n",
      "Query for pr bills\n",
      "Query for ri bills\n",
      "Query for sc bills\n",
      "Query for sd bills\n",
      "Query for tn bills\n",
      "Query for tx bills\n",
      "Query for ut bills\n",
      "Query for vt bills\n",
      "Query for va bills\n",
      "Query for wa bills\n",
      "Query for wv bills\n",
      "Query for wi bills\n",
      "Query for wy bills\n"
     ]
    }
   ],
   "source": [
    "search = 'firearms'\n",
    "\n",
    "states_bills_firearms = {}\n",
    "\n",
    "for state in states:\n",
    "    bills = query_state(state, search)\n",
    "    states_bills_firearms[state] = bills"
   ]
  },
  {
   "cell_type": "code",
   "execution_count": 5,
   "metadata": {},
   "outputs": [
    {
     "name": "stdout",
     "output_type": "stream",
     "text": [
      "{'ct': 64, 'ms': 99, 'md': 192, 'pr': 0, 'wa': 78, 'mn': 106, 'ut': 12, 'co': 11, 'or': 53, 'wy': 7, 'wv': 95, 'nm': 19, 'al': 77, 'ne': 23, 'il': 259, 'sc': 83, 'hi': 139, 'va': 287, 'ny': 354, 'ca': 213, 'wi': 48, 'nh': 41, 'mi': 124, 'nv': 41, 'vt': 28, 'tx': 76, 'ar': 13, 'dc': 12, 'id': 17, 'ma': 69, 'nj': 313, 'mt': 18, 'de': 22, 'me': 38, 'ky': 93, 'nd': 12, 'ok': 273, 'ks': 30, 'pa': 300, 'az': 91, 'nc': 28, 'fl': 119, 'in': 25, 'sd': 27, 'ga': 59, 'la': 100, 'ak': 13, 'ia': 50, 'tn': 284, 'ri': 76, 'oh': 35, 'mo': 115}\n"
     ]
    }
   ],
   "source": [
    "# create dictionary with key of state abbr and value of number of bills\n",
    "bill_count_by_state = {}\n",
    "\n",
    "for state in states:\n",
    "    bill_count_by_state[state] = len(states_bills_firearms[state])\n",
    "    \n",
    "print(bill_count_by_state)"
   ]
  },
  {
   "cell_type": "code",
   "execution_count": 6,
   "metadata": {
    "scrolled": true
   },
   "outputs": [
    {
     "name": "stdout",
     "output_type": "stream",
     "text": [
      "[0, 7, 11, 12, 12, 12, 13, 13, 17, 18, 19, 22, 23, 25, 27, 28, 28, 30, 35, 38, 41, 41, 48, 50, 53, 59, 64, 69, 76, 76, 77, 78, 83, 91, 93, 95, 99, 100, 106, 115, 119, 124, 139, 192, 213, 259, 273, 284, 287, 300, 313, 354]\n",
      "4761\n"
     ]
    }
   ],
   "source": [
    "# create array of number of bills\n",
    "values = list(bill_count_by_state.values())\n",
    "values.sort()\n",
    "\n",
    "print(values)\n",
    "\n",
    "# count all bills\n",
    "total_bills = 0\n",
    "\n",
    "for value in values:\n",
    "    total_bills = total_bills + value\n",
    "    \n",
    "print(total_bills)"
   ]
  },
  {
   "cell_type": "code",
   "execution_count": 7,
   "metadata": {},
   "outputs": [
    {
     "name": "stdout",
     "output_type": "stream",
     "text": [
      "{'ct': 'Connecticut', 'ms': 'Mississippi', 'md': 'Maryland', 'pr': 'Puerto Rico', 'wa': 'Washington', 'mn': 'Minnesota', 'ut': 'Utah', 'co': 'Colorado', 'or': 'Oregon', 'wy': 'Wyoming', 'wv': 'West Virginia', 'nm': 'New Mexico', 'al': 'Alabama', 'ne': 'Nebraska', 'il': 'Illinois', 'sc': 'South Carolina', 'hi': 'Hawaii', 'va': 'Virginia', 'ny': 'New York', 'ca': 'California', 'wi': 'Wisconsin', 'nh': 'New Hampshire', 'mi': 'Michigan', 'nv': 'Nevada', 'vt': 'Vermont', 'tx': 'Texas', 'ar': 'Arkansas', 'dc': 'District of Columbia', 'id': 'Idaho', 'ma': 'Massachusetts', 'nj': 'New Jersey', 'mt': 'Montana', 'de': 'Delaware', 'me': 'Maine', 'ky': 'Kentucky', 'nd': 'North Dakota', 'ok': 'Oklahoma', 'ks': 'Kansas', 'pa': 'Pennsylvania', 'az': 'Arizona', 'nc': 'North Carolina', 'fl': 'Florida', 'in': 'Indiana', 'sd': 'South Dakota', 'ga': 'Georgia', 'la': 'Louisiana', 'ak': 'Alaska', 'ia': 'Iowa', 'tn': 'Tennessee', 'ri': 'Rhode Island', 'oh': 'Ohio', 'mo': 'Missouri'}\n"
     ]
    },
    {
     "data": {
      "text/plain": [
       "52"
      ]
     },
     "execution_count": 7,
     "metadata": {},
     "output_type": "execute_result"
    }
   ],
   "source": [
    "# create dictionary of with key as state abbr and value as name\n",
    "state_names = {}\n",
    "\n",
    "for state in metadata:\n",
    "    state_names[state.get('abbreviation')] = state.get('name')\n",
    "\n",
    "print(state_names)\n",
    "len(state_names)"
   ]
  },
  {
   "cell_type": "code",
   "execution_count": 8,
   "metadata": {},
   "outputs": [
    {
     "name": "stdout",
     "output_type": "stream",
     "text": [
      "{'Nevada': 41, 'Alaska': 13, 'Nebraska': 23, 'New Mexico': 19, 'Colorado': 11, 'Pennsylvania': 300, 'Kentucky': 93, 'Washington': 78, 'Vermont': 28, 'Indiana': 25, 'Florida': 119, 'West Virginia': 95, 'Alabama': 77, 'Oregon': 53, 'Georgia': 59, 'Hawaii': 139, 'Maine': 38, 'Wisconsin': 48, 'Texas': 76, 'Arkansas': 13, 'Michigan': 124, 'Utah': 12, 'Puerto Rico': 0, 'North Dakota': 12, 'New Hampshire': 41, 'Kansas': 30, 'Oklahoma': 273, 'South Carolina': 83, 'Wyoming': 7, 'Louisiana': 100, 'Idaho': 17, 'Ohio': 35, 'Maryland': 192, 'Massachusetts': 69, 'District of Columbia': 12, 'Tennessee': 284, 'Virginia': 287, 'Montana': 18, 'California': 213, 'Rhode Island': 76, 'Mississippi': 99, 'New Jersey': 313, 'Arizona': 91, 'Connecticut': 64, 'Iowa': 50, 'Illinois': 259, 'Missouri': 115, 'South Dakota': 27, 'North Carolina': 28, 'Delaware': 22, 'Minnesota': 106, 'New York': 354}\n"
     ]
    }
   ],
   "source": [
    "# output dictonary where key is state name and value is number of bills for map\n",
    "bill_count_by_state_name = {}\n",
    "\n",
    "for state in states:\n",
    "    bill_count_by_state_name[state_names[state]] = bill_count_by_state[state]\n",
    "    \n",
    "print(bill_count_by_state_name)"
   ]
  },
  {
   "cell_type": "code",
   "execution_count": 9,
   "metadata": {
    "scrolled": false
   },
   "outputs": [
    {
     "data": {
      "image/png": "[encoded data removed]",
      "text/plain": [
       "<matplotlib.figure.Figure at 0x7fc6c944a710>"
      ]
     },
     "metadata": {},
     "output_type": "display_data"
    }
   ],
   "source": [
    "from __future__ import print_function\n",
    "import numpy as np\n",
    "import matplotlib.pyplot as plt\n",
    "from mpl_toolkits.basemap import Basemap as Basemap\n",
    "from matplotlib.colors import rgb2hex\n",
    "from matplotlib.patches import Polygon\n",
    "\n",
    "# https://stackoverflow.com/questions/39742305/how-to-use-basemap-python-to-plot-us-with-50-states\n",
    "\n",
    "\n",
    "# Hawaii has 8 main islands but several tiny atolls that extend for many miles.\n",
    "# This is the area cutoff between the 8 main islands and the tiny atolls.\n",
    "ATOLL_CUTOFF = 0.005\n",
    "\n",
    "m = Basemap(llcrnrlon=-121,llcrnrlat=20,urcrnrlon=-62,urcrnrlat=51,\n",
    "    projection='lcc',lat_1=32,lat_2=45,lon_0=-95)\n",
    "\n",
    "# draw state boundaries.\n",
    "# data from U.S Census Bureau\n",
    "# http://www.census.gov/geo/www/cob/st2000.html\n",
    "shp_info = m.readshapefile('st99_d00','states',drawbounds=True)\n",
    "\n",
    "# print(shp_info)\n",
    "# choose a color for each state based on population density.\n",
    "\n",
    "# Map with Hawaii and Alaska\n",
    "colors={}\n",
    "statenames=[]\n",
    "cmap = plt.cm.hot # use 'hot' colormap\n",
    "vmin = 0; vmax = 450 # set range.\n",
    "\n",
    "# print(m.states_info[0].keys())\n",
    "for shapedict in m.states_info:\n",
    "    statename = shapedict['NAME']\n",
    "    # skip DC and Puerto Rico.\n",
    "    if statename not in ['District of Columbia','Puerto Rico']:\n",
    "        pop = bill_count_by_state_name[statename]\n",
    "        # calling colormap with value between 0 and 1 returns\n",
    "        # rgba value.  Invert color range (hot colors are high\n",
    "        # population), take sqrt root to spread out colors more.\n",
    "        colors[statename] = cmap(1.-np.sqrt((pop-vmin)/(vmax-vmin)))[:3]\n",
    "    statenames.append(statename)\n",
    "\n",
    "# cycle through state names, color each one.\n",
    "ax = plt.gca() # get current axes instance\n",
    "\n",
    "for nshape,seg in enumerate(m.states):\n",
    "    # skip DC and Puerto Rico.\n",
    "    if statenames[nshape] not in ['District of Columbia','Puerto Rico']:\n",
    "        # Offset Alaska and Hawaii to the lower-left corner. \n",
    "        if statenames[nshape] == 'Alaska':\n",
    "        # Alaska is too big. Scale it down to 35% first, then translate it. \n",
    "            seg = list(map(lambda s: (0.35*s[0] + 1100000, 0.35*s[1]-1300000), seg))\n",
    "        if statenames[nshape] == 'Hawaii':\n",
    "            seg = list(map(lambda s: (s[0] + 5200000, s[1]-1400000), seg))\n",
    "\n",
    "        color = rgb2hex(colors[statenames[nshape]]) \n",
    "        poly = Polygon(seg, facecolor=color, edgecolor='black', linewidth=.5)\n",
    "        ax.add_patch(poly)\n",
    "\n",
    "plt.title('Bills with keyword \"firearms\"')\n",
    "plt.show()"
   ]
  },
  {
   "cell_type": "code",
   "execution_count": 10,
   "metadata": {
    "scrolled": true
   },
   "outputs": [
    {
     "name": "stdout",
     "output_type": "stream",
     "text": [
      "{'subjects': ['Commerce', 'Animal Rights and Wildlife Issues', 'Budget, Spending, and Taxes', 'Guns'], 'type': ['bill'], 'session': '851', 'id': 'TXB00058778', 'bill_id': 'HB 216', 'title': 'Relating to an exemption from the sales tax for firearms and hunting supplies for a limited period.', 'chamber': 'lower', 'state': 'tx', 'updated_at': datetime.datetime(2017, 8, 1, 5, 30, 49), 'created_at': datetime.datetime(2017, 7, 24, 5, 20, 12)}\n"
     ]
    }
   ],
   "source": [
    "tx = states_bills_firearms['tx']\n",
    "print(tx[0])"
   ]
  },
  {
   "cell_type": "code",
   "execution_count": 11,
   "metadata": {},
   "outputs": [
    {
     "data": {
      "text/plain": [
       "76"
      ]
     },
     "execution_count": 11,
     "metadata": {},
     "output_type": "execute_result"
    }
   ],
   "source": [
    "bill_count_by_state.get('tx')"
   ]
  },
  {
   "cell_type": "code",
   "execution_count": null,
   "metadata": {},
   "outputs": [],
   "source": []
  }
 ],
 "metadata": {
  "kernelspec": {
   "display_name": "Python 3",
   "language": "python",
   "name": "python3"
  },
  "language_info": {
   "codemirror_mode": {
    "name": "ipython",
    "version": 3
   },
   "file_extension": ".py",
   "mimetype": "text/x-python",
   "name": "python",
   "nbconvert_exporter": "python",
   "pygments_lexer": "ipython3",
   "version": "3.5.2"
  }
 },
 "nbformat": 4,
 "nbformat_minor": 2
}
