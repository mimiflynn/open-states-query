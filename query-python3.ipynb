{
 "cells": [
  {
   "cell_type": "code",
   "execution_count": 43,
   "metadata": {},
   "outputs": [],
   "source": [
    "from datetime import datetime\n",
    "import os\n",
    "import pyopenstates\n",
    "import sys\n",
    "\n",
    "def get_state_abbr(state):\n",
    "    return state.get('abbreviation')\n",
    "\n",
    "\n",
    "def get_state_name(state):\n",
    "    return state.get('name')\n",
    "\n",
    "\n",
    "def query_state(state, search_terms):\n",
    "    \"\"\"\n",
    "    https://openstates.github.io/pyopenstates/pyopenstates%20module.html#pyopenstates.search_bills\n",
    "    uses keyworded argument in function\n",
    "    \"\"\"\n",
    "    print('Query for ' + state + ' bills')\n",
    "\n",
    "    bills = pyopenstates.search_bills(state=state, q=search_terms)\n",
    "\n",
    "    return bills"
   ]
  },
  {
   "cell_type": "code",
   "execution_count": 44,
   "metadata": {},
   "outputs": [],
   "source": [
    "pyopenstates.set_api_key('api key')\n",
    "\n",
    "metadata = pyopenstates.get_metadata()\n",
    "states = list(map(get_state_abbr, metadata))"
   ]
  },
  {
   "cell_type": "code",
   "execution_count": 45,
   "metadata": {},
   "outputs": [
    {
     "name": "stdout",
     "output_type": "stream",
     "text": [
      "Query for al bills\n",
      "Query for ak bills\n",
      "Query for az bills\n",
      "Query for ar bills\n",
      "Query for ca bills\n",
      "Query for co bills\n",
      "Query for ct bills\n",
      "Query for de bills\n",
      "Query for dc bills\n",
      "Query for fl bills\n",
      "Query for ga bills\n",
      "Query for hi bills\n",
      "Query for id bills\n",
      "Query for il bills\n",
      "Query for in bills\n",
      "Query for ia bills\n",
      "Query for ks bills\n",
      "Query for ky bills\n",
      "Query for la bills\n",
      "Query for me bills\n",
      "Query for md bills\n",
      "Query for ma bills\n",
      "Query for mi bills\n",
      "Query for mn bills\n",
      "Query for ms bills\n",
      "Query for mo bills\n",
      "Query for mt bills\n",
      "Query for ne bills\n",
      "Query for nv bills\n",
      "Query for nh bills\n",
      "Query for nj bills\n",
      "Query for nm bills\n",
      "Query for ny bills\n",
      "Query for nc bills\n",
      "Query for nd bills\n",
      "Query for oh bills\n",
      "Query for ok bills\n",
      "Query for or bills\n",
      "Query for pa bills\n",
      "Query for pr bills\n",
      "Query for ri bills\n",
      "Query for sc bills\n",
      "Query for sd bills\n",
      "Query for tn bills\n",
      "Query for tx bills\n",
      "Query for ut bills\n",
      "Query for vt bills\n",
      "Query for va bills\n",
      "Query for wa bills\n",
      "Query for wv bills\n",
      "Query for wi bills\n",
      "Query for wy bills\n"
     ]
    }
   ],
   "source": [
    "search = 'firearms'\n",
    "\n",
    "states_bills_firearms = {}\n",
    "\n",
    "for state in states:\n",
    "    bills = query_state(state, search)\n",
    "    states_bills_firearms[state] = bills"
   ]
  },
  {
   "cell_type": "code",
   "execution_count": 46,
   "metadata": {},
   "outputs": [
    {
     "name": "stdout",
     "output_type": "stream",
     "text": [
      "{'wy': 7, 'ct': 62, 'ks': 28, 'id': 13, 'or': 50, 'mt': 18, 'tx': 76, 'nj': 253, 'ne': 23, 'la': 80, 'ms': 84, 'sd': 24, 'ca': 173, 'ri': 67, 'az': 84, 'mn': 91, 'ar': 13, 'vt': 26, 'mo': 97, 'fl': 113, 'nv': 41, 'me': 36, 'dc': 12, 'mi': 115, 'ga': 55, 'pa': 273, 'il': 237, 'ia': 41, 'md': 164, 'oh': 29, 'ak': 12, 'va': 223, 'hi': 109, 'ky': 76, 'wv': 90, 'tn': 305, 'wa': 71, 'nh': 37, 'ok': 236, 'ut': 11, 'wi': 40, 'de': 19, 'al': 68, 'sc': 74, 'pr': 0, 'ma': 63, 'nm': 18, 'nd': 12, 'ny': 329, 'nc': 28, 'in': 23, 'co': 10}\n"
     ]
    }
   ],
   "source": [
    "# create dictionary with key of state abbr and value of number of bills\n",
    "bill_count_by_state = {}\n",
    "\n",
    "for state in states:\n",
    "    bill_count_by_state[state] = len(states_bills_firearms[state])\n",
    "    \n",
    "print(bill_count_by_state)"
   ]
  },
  {
   "cell_type": "code",
   "execution_count": 47,
   "metadata": {
    "scrolled": true
   },
   "outputs": [
    {
     "name": "stdout",
     "output_type": "stream",
     "text": [
      "[0, 7, 10, 11, 12, 12, 12, 13, 13, 18, 18, 19, 23, 23, 24, 26, 28, 28, 29, 36, 37, 40, 41, 41, 50, 55, 62, 63, 67, 68, 71, 74, 76, 76, 80, 84, 84, 90, 91, 97, 109, 113, 115, 164, 173, 223, 236, 237, 253, 273, 305, 329]\n",
      "4239\n"
     ]
    }
   ],
   "source": [
    "# create array of number of bills\n",
    "values = list(bill_count_by_state.values())\n",
    "values.sort()\n",
    "\n",
    "print(values)\n",
    "\n",
    "# count all bills\n",
    "total_bills = 0\n",
    "\n",
    "for value in values:\n",
    "    total_bills = total_bills + value\n",
    "    \n",
    "print(total_bills)"
   ]
  },
  {
   "cell_type": "code",
   "execution_count": 48,
   "metadata": {},
   "outputs": [
    {
     "name": "stdout",
     "output_type": "stream",
     "text": [
      "{'wy': 'Wyoming', 'ct': 'Connecticut', 'ks': 'Kansas', 'id': 'Idaho', 'or': 'Oregon', 'mt': 'Montana', 'tx': 'Texas', 'nj': 'New Jersey', 'ne': 'Nebraska', 'la': 'Louisiana', 'ms': 'Mississippi', 'sd': 'South Dakota', 'ca': 'California', 'ri': 'Rhode Island', 'az': 'Arizona', 'mn': 'Minnesota', 'ar': 'Arkansas', 'vt': 'Vermont', 'mo': 'Missouri', 'fl': 'Florida', 'nv': 'Nevada', 'me': 'Maine', 'dc': 'District of Columbia', 'mi': 'Michigan', 'ga': 'Georgia', 'pa': 'Pennsylvania', 'il': 'Illinois', 'ia': 'Iowa', 'md': 'Maryland', 'oh': 'Ohio', 'ak': 'Alaska', 'va': 'Virginia', 'hi': 'Hawaii', 'ky': 'Kentucky', 'wv': 'West Virginia', 'tn': 'Tennessee', 'wa': 'Washington', 'nh': 'New Hampshire', 'ok': 'Oklahoma', 'ut': 'Utah', 'wi': 'Wisconsin', 'de': 'Delaware', 'al': 'Alabama', 'sc': 'South Carolina', 'pr': 'Puerto Rico', 'ma': 'Massachusetts', 'nm': 'New Mexico', 'nd': 'North Dakota', 'ny': 'New York', 'nc': 'North Carolina', 'in': 'Indiana', 'co': 'Colorado'}\n"
     ]
    },
    {
     "data": {
      "text/plain": [
       "52"
      ]
     },
     "execution_count": 48,
     "metadata": {},
     "output_type": "execute_result"
    }
   ],
   "source": [
    "# create dictionary of with key as state abbr and value as name\n",
    "state_names = {}\n",
    "\n",
    "for state in metadata:\n",
    "    state_names[state.get('abbreviation')] = state.get('name')\n",
    "\n",
    "print(state_names)\n",
    "len(state_names)"
   ]
  },
  {
   "cell_type": "code",
   "execution_count": 49,
   "metadata": {},
   "outputs": [
    {
     "name": "stdout",
     "output_type": "stream",
     "text": [
      "{'Mississippi': 84, 'Vermont': 26, 'Idaho': 13, 'District of Columbia': 12, 'Montana': 18, 'Arizona': 84, 'Washington': 71, 'Maine': 36, 'Wisconsin': 40, 'Delaware': 19, 'Massachusetts': 63, 'California': 173, 'Iowa': 41, 'Missouri': 97, 'Colorado': 10, 'Texas': 76, 'Oklahoma': 236, 'Alaska': 12, 'Puerto Rico': 0, 'Rhode Island': 67, 'Oregon': 50, 'Kansas': 28, 'Minnesota': 91, 'Illinois': 237, 'Pennsylvania': 273, 'New Mexico': 18, 'Connecticut': 62, 'Indiana': 23, 'Arkansas': 13, 'North Carolina': 28, 'Florida': 113, 'West Virginia': 90, 'Louisiana': 80, 'North Dakota': 12, 'Hawaii': 109, 'Nebraska': 23, 'New York': 329, 'Ohio': 29, 'New Hampshire': 37, 'Maryland': 164, 'New Jersey': 253, 'Wyoming': 7, 'Alabama': 68, 'South Carolina': 74, 'Georgia': 55, 'Tennessee': 305, 'South Dakota': 24, 'Virginia': 223, 'Utah': 11, 'Kentucky': 76, 'Nevada': 41, 'Michigan': 115}\n"
     ]
    }
   ],
   "source": [
    "# output dictonary where key is state name and value is number of bills for map\n",
    "bill_count_by_state_name = {}\n",
    "\n",
    "for state in states:\n",
    "    bill_count_by_state_name[state_names[state]] = bill_count_by_state[state]\n",
    "    \n",
    "print(bill_count_by_state_name)"
   ]
  },
  {
   "cell_type": "code",
   "execution_count": 50,
   "metadata": {
    "scrolled": false
   },
   "outputs": [
    {
     "data": {
      "image/png": "[encoded data removed]",
      "text/plain": [
       "<matplotlib.figure.Figure at 0x7f0bb87510f0>"
      ]
     },
     "metadata": {},
     "output_type": "display_data"
    }
   ],
   "source": [
    "from __future__ import print_function\n",
    "import numpy as np\n",
    "import matplotlib.pyplot as plt\n",
    "from mpl_toolkits.basemap import Basemap as Basemap\n",
    "from matplotlib.colors import rgb2hex\n",
    "from matplotlib.patches import Polygon\n",
    "\n",
    "# https://stackoverflow.com/questions/39742305/how-to-use-basemap-python-to-plot-us-with-50-states\n",
    "\n",
    "\n",
    "# Hawaii has 8 main islands but several tiny atolls that extend for many miles.\n",
    "# This is the area cutoff between the 8 main islands and the tiny atolls.\n",
    "ATOLL_CUTOFF = 0.005\n",
    "\n",
    "m = Basemap(llcrnrlon=-121,llcrnrlat=20,urcrnrlon=-62,urcrnrlat=51,\n",
    "    projection='lcc',lat_1=32,lat_2=45,lon_0=-95)\n",
    "\n",
    "# draw state boundaries.\n",
    "# data from U.S Census Bureau\n",
    "# http://www.census.gov/geo/www/cob/st2000.html\n",
    "shp_info = m.readshapefile('st99_d00','states',drawbounds=True)\n",
    "\n",
    "# print(shp_info)\n",
    "# choose a color for each state based on population density.\n",
    "\n",
    "# Map with Hawaii and Alaska\n",
    "colors={}\n",
    "statenames=[]\n",
    "cmap = plt.cm.hot # use 'hot' colormap\n",
    "vmin = 0; vmax = 450 # set range.\n",
    "\n",
    "# print(m.states_info[0].keys())\n",
    "for shapedict in m.states_info:\n",
    "    statename = shapedict['NAME']\n",
    "    # skip DC and Puerto Rico.\n",
    "    if statename not in ['District of Columbia','Puerto Rico']:\n",
    "        pop = bill_count_by_state_name[statename]\n",
    "        # calling colormap with value between 0 and 1 returns\n",
    "        # rgba value.  Invert color range (hot colors are high\n",
    "        # population), take sqrt root to spread out colors more.\n",
    "        colors[statename] = cmap(1.-np.sqrt((pop-vmin)/(vmax-vmin)))[:3]\n",
    "    statenames.append(statename)\n",
    "\n",
    "# cycle through state names, color each one.\n",
    "ax = plt.gca() # get current axes instance\n",
    "\n",
    "for nshape,seg in enumerate(m.states):\n",
    "    # skip DC and Puerto Rico.\n",
    "    if statenames[nshape] not in ['District of Columbia','Puerto Rico']:\n",
    "        # Offset Alaska and Hawaii to the lower-left corner. \n",
    "        if statenames[nshape] == 'Alaska':\n",
    "        # Alaska is too big. Scale it down to 35% first, then translate it. \n",
    "            seg = list(map(lambda s: (0.35*s[0] + 1100000, 0.35*s[1]-1300000), seg))\n",
    "        if statenames[nshape] == 'Hawaii':\n",
    "            seg = list(map(lambda s: (s[0] + 5200000, s[1]-1400000), seg))\n",
    "\n",
    "        color = rgb2hex(colors[statenames[nshape]]) \n",
    "        poly = Polygon(seg, facecolor=color, edgecolor='black', linewidth=.5)\n",
    "        ax.add_patch(poly)\n",
    "\n",
    "plt.title('Bills with keyword \"firearms\"')\n",
    "plt.show()"
   ]
  },
  {
   "cell_type": "code",
   "execution_count": 62,
   "metadata": {
    "scrolled": true
   },
   "outputs": [
    {
     "name": "stdout",
     "output_type": "stream",
     "text": [
      "{'chamber': 'lower', 'title': 'Relating to an exemption from the sales tax for firearms and hunting supplies for a limited period.', 'updated_at': datetime.datetime(2017, 8, 1, 5, 30, 49), 'created_at': datetime.datetime(2017, 7, 24, 5, 20, 12), 'subjects': ['Commerce', 'Animal Rights and Wildlife Issues', 'Budget, Spending, and Taxes', 'Guns'], 'id': 'TXB00058778', 'session': '851', 'type': ['bill'], 'bill_id': 'HB 216', 'state': 'tx'}\n"
     ]
    }
   ],
   "source": [
    "tx = states_bills_firearms['tx']\n",
    "print(tx[0])"
   ]
  },
  {
   "cell_type": "code",
   "execution_count": 67,
   "metadata": {},
   "outputs": [
    {
     "data": {
      "text/plain": [
       "305"
      ]
     },
     "execution_count": 67,
     "metadata": {},
     "output_type": "execute_result"
    }
   ],
   "source": [
    "bill_count_by_state.get('tn')"
   ]
  },
  {
   "cell_type": "code",
   "execution_count": null,
   "metadata": {},
   "outputs": [],
   "source": []
  }
 ],
 "metadata": {
  "kernelspec": {
   "display_name": "Python 3",
   "language": "python",
   "name": "python3"
  },
  "language_info": {
   "codemirror_mode": {
    "name": "ipython",
    "version": 3
   },
   "file_extension": ".py",
   "mimetype": "text/x-python",
   "name": "python",
   "nbconvert_exporter": "python",
   "pygments_lexer": "ipython3",
   "version": "3.5.2"
  }
 },
 "nbformat": 4,
 "nbformat_minor": 2
}
