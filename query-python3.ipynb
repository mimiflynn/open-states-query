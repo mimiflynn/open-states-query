{
 "cells": [
  {
   "cell_type": "code",
   "execution_count": 3,
   "metadata": {
    "collapsed": true
   },
   "outputs": [],
   "source": [
    "from datetime import datetime\n",
    "import os\n",
    "import pyopenstates\n",
    "import sys\n",
    "\n",
    "def get_state_abbr(state):\n",
    "    return state.get('abbreviation')\n",
    "\n",
    "\n",
    "def query_state(state, search_terms):\n",
    "    \"\"\"\n",
    "    https://openstates.github.io/pyopenstates/pyopenstates%20module.html#pyopenstates.search_bills\n",
    "    uses keyworded argument in function\n",
    "    \"\"\"\n",
    "    print('Query for ' + state + ' bills')\n",
    "\n",
    "    bills = pyopenstates.search_bills(state=state, q=search_terms)\n",
    "\n",
    "    return bills"
   ]
  },
  {
   "cell_type": "code",
   "execution_count": 4,
   "metadata": {
    "collapsed": true
   },
   "outputs": [],
   "source": [
    "pyopenstates.set_api_key('api key')\n",
    "\n",
    "metadata = pyopenstates.get_metadata()\n",
    "states = list(map(get_state_abbr, metadata))"
   ]
  },
  {
   "cell_type": "code",
   "execution_count": 5,
   "metadata": {},
   "outputs": [
    {
     "name": "stdout",
     "output_type": "stream",
     "text": [
      "Query for al bills\n",
      "Query for ak bills\n",
      "Query for az bills\n",
      "Query for ar bills\n",
      "Query for ca bills\n",
      "Query for co bills\n",
      "Query for ct bills\n",
      "Query for de bills\n",
      "Query for dc bills\n",
      "Query for fl bills\n",
      "Query for ga bills\n",
      "Query for hi bills\n",
      "Query for id bills\n",
      "Query for il bills\n",
      "Query for in bills\n",
      "Query for ia bills\n",
      "Query for ks bills\n",
      "Query for ky bills\n",
      "Query for la bills\n",
      "Query for me bills\n",
      "Query for md bills\n",
      "Query for ma bills\n",
      "Query for mi bills\n",
      "Query for mn bills\n",
      "Query for ms bills\n",
      "Query for mo bills\n",
      "Query for mt bills\n",
      "Query for ne bills\n",
      "Query for nv bills\n",
      "Query for nh bills\n",
      "Query for nj bills\n",
      "Query for nm bills\n",
      "Query for ny bills\n",
      "Query for nc bills\n",
      "Query for nd bills\n",
      "Query for oh bills\n",
      "Query for ok bills\n",
      "Query for or bills\n",
      "Query for pa bills\n",
      "Query for pr bills\n",
      "Query for ri bills\n",
      "Query for sc bills\n",
      "Query for sd bills\n",
      "Query for tn bills\n",
      "Query for tx bills\n",
      "Query for ut bills\n",
      "Query for vt bills\n",
      "Query for va bills\n",
      "Query for wa bills\n",
      "Query for wv bills\n",
      "Query for wi bills\n",
      "Query for wy bills\n"
     ]
    }
   ],
   "source": [
    "search = 'firearms'\n",
    "\n",
    "states_bills_firearms = {}\n",
    "\n",
    "for state in states:\n",
    "    bills = query_state(state, search)\n",
    "    states_bills_firearms[state] = bills"
   ]
  },
  {
   "cell_type": "code",
   "execution_count": 11,
   "metadata": {},
   "outputs": [
    {
     "name": "stdout",
     "output_type": "stream",
     "text": [
      "{'wi': 40, 'wy': 7, 'al': 68, 'ks': 28, 'mi': 115, 'or': 50, 'dc': 12, 'sc': 74, 'in': 23, 'ne': 23, 'tx': 76, 'hi': 109, 'wv': 90, 'mt': 18, 'me': 36, 'ok': 236, 'co': 10, 'ia': 41, 'ma': 63, 'ca': 173, 'nj': 253, 'fl': 112, 'ri': 67, 'ga': 54, 'ak': 12, 'nv': 41, 'ms': 84, 'nd': 12, 'id': 13, 'sd': 24, 'nm': 18, 'de': 19, 'va': 223, 'nh': 37, 'pa': 273, 'ky': 76, 'md': 164, 'ct': 62, 'oh': 29, 'ar': 13, 'mn': 91, 'vt': 26, 'nc': 28, 'il': 237, 'la': 80, 'tn': 305, 'az': 84, 'mo': 97, 'wa': 71, 'ut': 11, 'pr': 0, 'ny': 329}\n"
     ]
    }
   ],
   "source": [
    "bill_count_by_state = {}\n",
    "\n",
    "for state in states:\n",
    "    bill_count_by_state[state] = len(states_bills_firearms[state])\n",
    "    \n",
    "print(bill_count_by_state)"
   ]
  },
  {
   "cell_type": "code",
   "execution_count": 16,
   "metadata": {},
   "outputs": [
    {
     "name": "stdout",
     "output_type": "stream",
     "text": [
      "[0, 7, 10, 11, 12, 12, 12, 13, 13, 18, 18, 19, 23, 23, 24, 26, 28, 28, 29, 36, 37, 40, 41, 41, 50, 54, 62, 63, 67, 68, 71, 74, 76, 76, 80, 84, 84, 90, 91, 97, 109, 112, 115, 164, 173, 223, 236, 237, 253, 273, 305, 329]\n",
      "4237\n"
     ]
    }
   ],
   "source": [
    "values = list(bill_count_by_state.values())\n",
    "values.sort()\n",
    "\n",
    "print(values)\n",
    "\n",
    "total_bills = 0\n",
    "\n",
    "for value in values:\n",
    "    total_bills = total_bills + value\n",
    "    \n",
    "print(total_bills)"
   ]
  },
  {
   "cell_type": "code",
   "execution_count": null,
   "metadata": {
    "collapsed": true
   },
   "outputs": [],
   "source": []
  }
 ],
 "metadata": {
  "kernelspec": {
   "display_name": "Python 3",
   "language": "python",
   "name": "python3"
  },
  "language_info": {
   "codemirror_mode": {
    "name": "ipython",
    "version": 3
   },
   "file_extension": ".py",
   "mimetype": "text/x-python",
   "name": "python",
   "nbconvert_exporter": "python",
   "pygments_lexer": "ipython3",
   "version": "3.5.2"
  }
 },
 "nbformat": 4,
 "nbformat_minor": 2
}
